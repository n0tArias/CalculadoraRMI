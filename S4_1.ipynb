{
  "cells": [
    {
      "cell_type": "markdown",
      "metadata": {
        "id": "view-in-github",
        "colab_type": "text"
      },
      "source": [
        "<a href=\"https://colab.research.google.com/github/n0tArias/CalculadoraRMI/blob/main/S4_1.ipynb\" target=\"_parent\"><img src=\"https://colab.research.google.com/assets/colab-badge.svg\" alt=\"Open In Colab\"/></a>"
      ]
    },
    {
      "cell_type": "markdown",
      "metadata": {
        "id": "Sdbgy7n2srug"
      },
      "source": [
        "[![Open In Colab](https://colab.research.google.com/assets/colab-badge.svg)](https://colab.research.google.com/github/ivanvladimir/maquinas_notebooks/blob/main/lfya/05%20Gram%C3%A1ticas%20libres%20de%20contexto%20en%20su%20habitat...%20y%20AP.ipynb)\n",
        "\n",
        "\n",
        "# 05 Gramáticas libres de contexto en su habitat... y AP\n",
        "\n",
        "Esta notebook ilustra los conceptos de [**Gramáticas libres de contexto en su habitat... y AP**](https://ivanvladimir.gitlab.io/lfya_book/docs/05gram%C3%A1ticaslibresdecontextoensuh%C3%A1bitatyap/) correspondiente al curso de [**Lenguajes Formales y Autómatas**](https://turing.iimas.unam.mx/~ivanvladimir/page/curso_lfya/)\n",
        "\n",
        "\n",
        "## Instrucciones\n",
        "\n",
        "1. Si la librería [**maquinas**](https://pypi.org/project/maquinas/) no está instalada ejecutar la celdas correspondiente a la sección marcada con ◉\n",
        "2. Importar los módulos de librería relevantes\n",
        "3. Ejecuar las celdas para explorar los conceptos\n",
        "\n",
        "\n",
        "## Licencia de la notebook\n",
        "\n",
        "<a rel=\"license\" href=\"http://creativecommons.org/licenses/by/4.0/\"><img alt=\"Creative Commons License\" style=\"border-width:0\" src=\"https://i.creativecommons.org/l/by/4.0/80x15.png\" /></a>\n",
        "</br>This work is licensed under a <a rel=\"license\" href=\"http://creativecommons.org/licenses/by/4.0/\">Creative Commons Attribution 4.0 International License</a>.\n",
        "\n",
        "## General information\n",
        "\n",
        "> **Author(s)**: <a href=\"https://twitter.com/ivanvladimir\">@ivanvladimir</a></br>\n",
        "> **Last updated**: 24/01/2023"
      ]
    },
    {
      "cell_type": "markdown",
      "metadata": {
        "id": "g1YyN_7Nsruj"
      },
      "source": [
        "### ◉ Instalando la librería\n",
        "\n",
        "Se instala la librería [maquinas](https://pypi.org/project/maquinas/)\n",
        "\n",
        "**Requerido en colab**, _opcional en ambiente local a través de jupyter_"
      ]
    },
    {
      "cell_type": "code",
      "execution_count": 3,
      "metadata": {
        "id": "DH6OgDRfsruk",
        "outputId": "02c598f9-e1f0-4882-a79c-628876e0e585",
        "colab": {
          "base_uri": "https://localhost:8080/"
        }
      },
      "outputs": [
        {
          "output_type": "stream",
          "name": "stdout",
          "text": [
            "Collecting maquinas\n",
            "  Downloading maquinas-0.3.2.0-py3-none-any.whl.metadata (1.8 kB)\n",
            "Requirement already satisfied: graphviz in /usr/local/lib/python3.11/dist-packages (from maquinas) (0.20.3)\n",
            "Requirement already satisfied: ipywidgets in /usr/local/lib/python3.11/dist-packages (from maquinas) (7.7.1)\n",
            "Requirement already satisfied: IPython in /usr/local/lib/python3.11/dist-packages (from maquinas) (7.34.0)\n",
            "Collecting ordered_set (from maquinas)\n",
            "  Downloading ordered_set-4.1.0-py3-none-any.whl.metadata (5.3 kB)\n",
            "Requirement already satisfied: Pillow in /usr/local/lib/python3.11/dist-packages (from maquinas) (11.2.1)\n",
            "Collecting TatSu (from maquinas)\n",
            "  Downloading TatSu-5.13.1-py3-none-any.whl.metadata (14 kB)\n",
            "Requirement already satisfied: setuptools>=18.5 in /usr/local/lib/python3.11/dist-packages (from IPython->maquinas) (75.2.0)\n",
            "Collecting jedi>=0.16 (from IPython->maquinas)\n",
            "  Downloading jedi-0.19.2-py2.py3-none-any.whl.metadata (22 kB)\n",
            "Requirement already satisfied: decorator in /usr/local/lib/python3.11/dist-packages (from IPython->maquinas) (4.4.2)\n",
            "Requirement already satisfied: pickleshare in /usr/local/lib/python3.11/dist-packages (from IPython->maquinas) (0.7.5)\n",
            "Requirement already satisfied: traitlets>=4.2 in /usr/local/lib/python3.11/dist-packages (from IPython->maquinas) (5.7.1)\n",
            "Requirement already satisfied: prompt-toolkit!=3.0.0,!=3.0.1,<3.1.0,>=2.0.0 in /usr/local/lib/python3.11/dist-packages (from IPython->maquinas) (3.0.51)\n",
            "Requirement already satisfied: pygments in /usr/local/lib/python3.11/dist-packages (from IPython->maquinas) (2.19.1)\n",
            "Requirement already satisfied: backcall in /usr/local/lib/python3.11/dist-packages (from IPython->maquinas) (0.2.0)\n",
            "Requirement already satisfied: matplotlib-inline in /usr/local/lib/python3.11/dist-packages (from IPython->maquinas) (0.1.7)\n",
            "Requirement already satisfied: pexpect>4.3 in /usr/local/lib/python3.11/dist-packages (from IPython->maquinas) (4.9.0)\n",
            "Requirement already satisfied: ipykernel>=4.5.1 in /usr/local/lib/python3.11/dist-packages (from ipywidgets->maquinas) (6.17.1)\n",
            "Requirement already satisfied: ipython-genutils~=0.2.0 in /usr/local/lib/python3.11/dist-packages (from ipywidgets->maquinas) (0.2.0)\n",
            "Requirement already satisfied: widgetsnbextension~=3.6.0 in /usr/local/lib/python3.11/dist-packages (from ipywidgets->maquinas) (3.6.10)\n",
            "Requirement already satisfied: jupyterlab-widgets>=1.0.0 in /usr/local/lib/python3.11/dist-packages (from ipywidgets->maquinas) (3.0.15)\n",
            "Requirement already satisfied: debugpy>=1.0 in /usr/local/lib/python3.11/dist-packages (from ipykernel>=4.5.1->ipywidgets->maquinas) (1.8.0)\n",
            "Requirement already satisfied: jupyter-client>=6.1.12 in /usr/local/lib/python3.11/dist-packages (from ipykernel>=4.5.1->ipywidgets->maquinas) (6.1.12)\n",
            "Requirement already satisfied: nest-asyncio in /usr/local/lib/python3.11/dist-packages (from ipykernel>=4.5.1->ipywidgets->maquinas) (1.6.0)\n",
            "Requirement already satisfied: packaging in /usr/local/lib/python3.11/dist-packages (from ipykernel>=4.5.1->ipywidgets->maquinas) (24.2)\n",
            "Requirement already satisfied: psutil in /usr/local/lib/python3.11/dist-packages (from ipykernel>=4.5.1->ipywidgets->maquinas) (5.9.5)\n",
            "Requirement already satisfied: pyzmq>=17 in /usr/local/lib/python3.11/dist-packages (from ipykernel>=4.5.1->ipywidgets->maquinas) (24.0.1)\n",
            "Requirement already satisfied: tornado>=6.1 in /usr/local/lib/python3.11/dist-packages (from ipykernel>=4.5.1->ipywidgets->maquinas) (6.4.2)\n",
            "Requirement already satisfied: parso<0.9.0,>=0.8.4 in /usr/local/lib/python3.11/dist-packages (from jedi>=0.16->IPython->maquinas) (0.8.4)\n",
            "Requirement already satisfied: ptyprocess>=0.5 in /usr/local/lib/python3.11/dist-packages (from pexpect>4.3->IPython->maquinas) (0.7.0)\n",
            "Requirement already satisfied: wcwidth in /usr/local/lib/python3.11/dist-packages (from prompt-toolkit!=3.0.0,!=3.0.1,<3.1.0,>=2.0.0->IPython->maquinas) (0.2.13)\n",
            "Requirement already satisfied: notebook>=4.4.1 in /usr/local/lib/python3.11/dist-packages (from widgetsnbextension~=3.6.0->ipywidgets->maquinas) (6.5.7)\n",
            "Requirement already satisfied: jupyter-core>=4.6.0 in /usr/local/lib/python3.11/dist-packages (from jupyter-client>=6.1.12->ipykernel>=4.5.1->ipywidgets->maquinas) (5.7.2)\n",
            "Requirement already satisfied: python-dateutil>=2.1 in /usr/local/lib/python3.11/dist-packages (from jupyter-client>=6.1.12->ipykernel>=4.5.1->ipywidgets->maquinas) (2.9.0.post0)\n",
            "Requirement already satisfied: jinja2 in /usr/local/lib/python3.11/dist-packages (from notebook>=4.4.1->widgetsnbextension~=3.6.0->ipywidgets->maquinas) (3.1.6)\n",
            "Requirement already satisfied: argon2-cffi in /usr/local/lib/python3.11/dist-packages (from notebook>=4.4.1->widgetsnbextension~=3.6.0->ipywidgets->maquinas) (23.1.0)\n",
            "Requirement already satisfied: nbformat in /usr/local/lib/python3.11/dist-packages (from notebook>=4.4.1->widgetsnbextension~=3.6.0->ipywidgets->maquinas) (5.10.4)\n",
            "Requirement already satisfied: nbconvert>=5 in /usr/local/lib/python3.11/dist-packages (from notebook>=4.4.1->widgetsnbextension~=3.6.0->ipywidgets->maquinas) (7.16.6)\n",
            "Requirement already satisfied: Send2Trash>=1.8.0 in /usr/local/lib/python3.11/dist-packages (from notebook>=4.4.1->widgetsnbextension~=3.6.0->ipywidgets->maquinas) (1.8.3)\n",
            "Requirement already satisfied: terminado>=0.8.3 in /usr/local/lib/python3.11/dist-packages (from notebook>=4.4.1->widgetsnbextension~=3.6.0->ipywidgets->maquinas) (0.18.1)\n",
            "Requirement already satisfied: prometheus-client in /usr/local/lib/python3.11/dist-packages (from notebook>=4.4.1->widgetsnbextension~=3.6.0->ipywidgets->maquinas) (0.21.1)\n",
            "Requirement already satisfied: nbclassic>=0.4.7 in /usr/local/lib/python3.11/dist-packages (from notebook>=4.4.1->widgetsnbextension~=3.6.0->ipywidgets->maquinas) (1.3.1)\n",
            "Requirement already satisfied: platformdirs>=2.5 in /usr/local/lib/python3.11/dist-packages (from jupyter-core>=4.6.0->jupyter-client>=6.1.12->ipykernel>=4.5.1->ipywidgets->maquinas) (4.3.8)\n",
            "Requirement already satisfied: notebook-shim>=0.2.3 in /usr/local/lib/python3.11/dist-packages (from nbclassic>=0.4.7->notebook>=4.4.1->widgetsnbextension~=3.6.0->ipywidgets->maquinas) (0.2.4)\n",
            "Requirement already satisfied: beautifulsoup4 in /usr/local/lib/python3.11/dist-packages (from nbconvert>=5->notebook>=4.4.1->widgetsnbextension~=3.6.0->ipywidgets->maquinas) (4.13.4)\n",
            "Requirement already satisfied: bleach!=5.0.0 in /usr/local/lib/python3.11/dist-packages (from bleach[css]!=5.0.0->nbconvert>=5->notebook>=4.4.1->widgetsnbextension~=3.6.0->ipywidgets->maquinas) (6.2.0)\n",
            "Requirement already satisfied: defusedxml in /usr/local/lib/python3.11/dist-packages (from nbconvert>=5->notebook>=4.4.1->widgetsnbextension~=3.6.0->ipywidgets->maquinas) (0.7.1)\n",
            "Requirement already satisfied: jupyterlab-pygments in /usr/local/lib/python3.11/dist-packages (from nbconvert>=5->notebook>=4.4.1->widgetsnbextension~=3.6.0->ipywidgets->maquinas) (0.3.0)\n",
            "Requirement already satisfied: markupsafe>=2.0 in /usr/local/lib/python3.11/dist-packages (from nbconvert>=5->notebook>=4.4.1->widgetsnbextension~=3.6.0->ipywidgets->maquinas) (3.0.2)\n",
            "Requirement already satisfied: mistune<4,>=2.0.3 in /usr/local/lib/python3.11/dist-packages (from nbconvert>=5->notebook>=4.4.1->widgetsnbextension~=3.6.0->ipywidgets->maquinas) (3.1.3)\n",
            "Requirement already satisfied: nbclient>=0.5.0 in /usr/local/lib/python3.11/dist-packages (from nbconvert>=5->notebook>=4.4.1->widgetsnbextension~=3.6.0->ipywidgets->maquinas) (0.10.2)\n",
            "Requirement already satisfied: pandocfilters>=1.4.1 in /usr/local/lib/python3.11/dist-packages (from nbconvert>=5->notebook>=4.4.1->widgetsnbextension~=3.6.0->ipywidgets->maquinas) (1.5.1)\n",
            "Requirement already satisfied: fastjsonschema>=2.15 in /usr/local/lib/python3.11/dist-packages (from nbformat->notebook>=4.4.1->widgetsnbextension~=3.6.0->ipywidgets->maquinas) (2.21.1)\n",
            "Requirement already satisfied: jsonschema>=2.6 in /usr/local/lib/python3.11/dist-packages (from nbformat->notebook>=4.4.1->widgetsnbextension~=3.6.0->ipywidgets->maquinas) (4.23.0)\n",
            "Requirement already satisfied: six>=1.5 in /usr/local/lib/python3.11/dist-packages (from python-dateutil>=2.1->jupyter-client>=6.1.12->ipykernel>=4.5.1->ipywidgets->maquinas) (1.17.0)\n",
            "Requirement already satisfied: argon2-cffi-bindings in /usr/local/lib/python3.11/dist-packages (from argon2-cffi->notebook>=4.4.1->widgetsnbextension~=3.6.0->ipywidgets->maquinas) (21.2.0)\n",
            "Requirement already satisfied: webencodings in /usr/local/lib/python3.11/dist-packages (from bleach!=5.0.0->bleach[css]!=5.0.0->nbconvert>=5->notebook>=4.4.1->widgetsnbextension~=3.6.0->ipywidgets->maquinas) (0.5.1)\n",
            "Requirement already satisfied: tinycss2<1.5,>=1.1.0 in /usr/local/lib/python3.11/dist-packages (from bleach[css]!=5.0.0->nbconvert>=5->notebook>=4.4.1->widgetsnbextension~=3.6.0->ipywidgets->maquinas) (1.4.0)\n",
            "Requirement already satisfied: attrs>=22.2.0 in /usr/local/lib/python3.11/dist-packages (from jsonschema>=2.6->nbformat->notebook>=4.4.1->widgetsnbextension~=3.6.0->ipywidgets->maquinas) (25.3.0)\n",
            "Requirement already satisfied: jsonschema-specifications>=2023.03.6 in /usr/local/lib/python3.11/dist-packages (from jsonschema>=2.6->nbformat->notebook>=4.4.1->widgetsnbextension~=3.6.0->ipywidgets->maquinas) (2025.4.1)\n",
            "Requirement already satisfied: referencing>=0.28.4 in /usr/local/lib/python3.11/dist-packages (from jsonschema>=2.6->nbformat->notebook>=4.4.1->widgetsnbextension~=3.6.0->ipywidgets->maquinas) (0.36.2)\n",
            "Requirement already satisfied: rpds-py>=0.7.1 in /usr/local/lib/python3.11/dist-packages (from jsonschema>=2.6->nbformat->notebook>=4.4.1->widgetsnbextension~=3.6.0->ipywidgets->maquinas) (0.24.0)\n",
            "Requirement already satisfied: jupyter-server<3,>=1.8 in /usr/local/lib/python3.11/dist-packages (from notebook-shim>=0.2.3->nbclassic>=0.4.7->notebook>=4.4.1->widgetsnbextension~=3.6.0->ipywidgets->maquinas) (1.16.0)\n",
            "Requirement already satisfied: cffi>=1.0.1 in /usr/local/lib/python3.11/dist-packages (from argon2-cffi-bindings->argon2-cffi->notebook>=4.4.1->widgetsnbextension~=3.6.0->ipywidgets->maquinas) (1.17.1)\n",
            "Requirement already satisfied: soupsieve>1.2 in /usr/local/lib/python3.11/dist-packages (from beautifulsoup4->nbconvert>=5->notebook>=4.4.1->widgetsnbextension~=3.6.0->ipywidgets->maquinas) (2.7)\n",
            "Requirement already satisfied: typing-extensions>=4.0.0 in /usr/local/lib/python3.11/dist-packages (from beautifulsoup4->nbconvert>=5->notebook>=4.4.1->widgetsnbextension~=3.6.0->ipywidgets->maquinas) (4.13.2)\n",
            "Requirement already satisfied: pycparser in /usr/local/lib/python3.11/dist-packages (from cffi>=1.0.1->argon2-cffi-bindings->argon2-cffi->notebook>=4.4.1->widgetsnbextension~=3.6.0->ipywidgets->maquinas) (2.22)\n",
            "Requirement already satisfied: anyio>=3.1.0 in /usr/local/lib/python3.11/dist-packages (from jupyter-server<3,>=1.8->notebook-shim>=0.2.3->nbclassic>=0.4.7->notebook>=4.4.1->widgetsnbextension~=3.6.0->ipywidgets->maquinas) (4.9.0)\n",
            "Requirement already satisfied: websocket-client in /usr/local/lib/python3.11/dist-packages (from jupyter-server<3,>=1.8->notebook-shim>=0.2.3->nbclassic>=0.4.7->notebook>=4.4.1->widgetsnbextension~=3.6.0->ipywidgets->maquinas) (1.8.0)\n",
            "Requirement already satisfied: idna>=2.8 in /usr/local/lib/python3.11/dist-packages (from anyio>=3.1.0->jupyter-server<3,>=1.8->notebook-shim>=0.2.3->nbclassic>=0.4.7->notebook>=4.4.1->widgetsnbextension~=3.6.0->ipywidgets->maquinas) (3.10)\n",
            "Requirement already satisfied: sniffio>=1.1 in /usr/local/lib/python3.11/dist-packages (from anyio>=3.1.0->jupyter-server<3,>=1.8->notebook-shim>=0.2.3->nbclassic>=0.4.7->notebook>=4.4.1->widgetsnbextension~=3.6.0->ipywidgets->maquinas) (1.3.1)\n",
            "Downloading maquinas-0.3.2.0-py3-none-any.whl (89 kB)\n",
            "\u001b[2K   \u001b[90m━━━━━━━━━━━━━━━━━━━━━━━━━━━━━━━━━━━━━━━━\u001b[0m \u001b[32m89.7/89.7 kB\u001b[0m \u001b[31m3.1 MB/s\u001b[0m eta \u001b[36m0:00:00\u001b[0m\n",
            "\u001b[?25hDownloading ordered_set-4.1.0-py3-none-any.whl (7.6 kB)\n",
            "Downloading TatSu-5.13.1-py3-none-any.whl (80 kB)\n",
            "\u001b[2K   \u001b[90m━━━━━━━━━━━━━━━━━━━━━━━━━━━━━━━━━━━━━━━━\u001b[0m \u001b[32m80.2/80.2 kB\u001b[0m \u001b[31m5.5 MB/s\u001b[0m eta \u001b[36m0:00:00\u001b[0m\n",
            "\u001b[?25hDownloading jedi-0.19.2-py2.py3-none-any.whl (1.6 MB)\n",
            "\u001b[2K   \u001b[90m━━━━━━━━━━━━━━━━━━━━━━━━━━━━━━━━━━━━━━━━\u001b[0m \u001b[32m1.6/1.6 MB\u001b[0m \u001b[31m40.4 MB/s\u001b[0m eta \u001b[36m0:00:00\u001b[0m\n",
            "\u001b[?25hInstalling collected packages: TatSu, ordered_set, jedi, maquinas\n",
            "Successfully installed TatSu-5.13.1 jedi-0.19.2 maquinas-0.3.2.0 ordered_set-4.1.0\n"
          ]
        }
      ],
      "source": [
        "# Execute if not installed\n",
        "!pip install maquinas --upgrade"
      ]
    },
    {
      "cell_type": "markdown",
      "metadata": {
        "id": "rJ872pFgsrul"
      },
      "source": [
        "### 01 Importar módulos\n",
        "\n",
        "Se importan las [Gramaticas Libres de Contexto](https://ivanvladimir.gitlab.io/lfya_book/docs/04abropar%C3%A9ntesisabropar%C3%A9ntesiscierropar%C3%A9ntesis/03gram%C3%A1ticaslibresdecontexto/) (CFG), las [Gramáticas Regulares](https://ivanvladimir.gitlab.io/lfya_book/docs/05gram%C3%A1ticaslibresdecontextoensuh%C3%A1bitatyap/07gram%C3%A1ticasregulares/) (RG) y [Autómatas de pila](https://ivanvladimir.gitlab.io/lfya_book/docs/05gram%C3%A1ticaslibresdecontextoensuh%C3%A1bitatyap/08aut%C3%B3matasdepila/) (AP)"
      ]
    },
    {
      "cell_type": "code",
      "execution_count": 4,
      "metadata": {
        "id": "mHfsLEWvsrum"
      },
      "outputs": [],
      "source": [
        "from maquinas.contextfree.cfg import ContextFreeGrammar as CFG\n",
        "from maquinas.regular.rg import RegularGrammar as RG\n",
        "from maquinas.contextfree.pda import PushDownAutomaton as PDA\n",
        "from maquinas.simulation import Simulation\n",
        "from maquinas.io import load_pda"
      ]
    },
    {
      "cell_type": "markdown",
      "metadata": {
        "id": "YzIrqtuxsrum"
      },
      "source": [
        "## 02 Ambigüedad\n",
        "\n",
        "Algunas gramáticas tienen la propiedad de ser [ambiguas](https://ivanvladimir.gitlab.io/lfya_book/docs/05gram%C3%A1ticaslibresdecontextoensuh%C3%A1bitatyap/08aut%C3%B3matasdepila/)"
      ]
    },
    {
      "cell_type": "code",
      "execution_count": 39,
      "metadata": {
        "id": "3pjQ2X3Psrun",
        "outputId": "3b9fdddd-609d-4423-fc28-f0f82f0884a6",
        "colab": {
          "base_uri": "https://localhost:8080/"
        }
      },
      "outputs": [
        {
          "output_type": "stream",
          "name": "stdout",
          "text": [
            "No terminal : B, E, A, C, S\n",
            "Terminals   : c, d, a, D, F, b\n",
            "Start       : S\n",
            "Productions :\n",
            " S → aA | a | ε\n",
            " A → Cb | Ba\n",
            " B → Dc | d | ε\n",
            " C → Fb | Sb | E\n",
            " E → CaS | Ba\n"
          ]
        }
      ],
      "source": [
        "gato=CFG('S->aA; S->a; S->epsilon; A->Cb; A->Ba; B->Dc; B->d; B->epsilon; C->Fb; C->Sb; C->E; E->CaS; E->Ba')\n",
        "gato.print_summary()"
      ]
    },
    {
      "cell_type": "code",
      "execution_count": 48,
      "metadata": {
        "id": "mwX4SEk5sruo",
        "outputId": "083c6651-3603-4767-a6a1-4d21f405050a",
        "colab": {
          "base_uri": "https://localhost:8080/",
          "height": 596
        }
      },
      "outputs": [
        {
          "output_type": "execute_result",
          "data": {
            "image/svg+xml": "<?xml version=\"1.0\" encoding=\"UTF-8\" standalone=\"no\"?>\n<!DOCTYPE svg PUBLIC \"-//W3C//DTD SVG 1.1//EN\"\n \"http://www.w3.org/Graphics/SVG/1.1/DTD/svg11.dtd\">\n<!-- Generated by graphviz version 2.43.0 (0)\n -->\n<!-- Title: %3 Pages: 1 -->\n<svg width=\"163pt\" height=\"431pt\"\n viewBox=\"0.00 0.00 162.50 431.00\" xmlns=\"http://www.w3.org/2000/svg\" xmlns:xlink=\"http://www.w3.org/1999/xlink\">\n<g id=\"graph0\" class=\"graph\" transform=\"scale(1 1) rotate(0) translate(4 427)\">\n<title>%3</title>\n<polygon fill=\"white\" stroke=\"transparent\" points=\"-4,4 -4,-427 158.5,-427 158.5,4 -4,4\"/>\n<!-- u_0_0 -->\n<g id=\"node1\" class=\"node\">\n<title>u_0_0</title>\n<text text-anchor=\"middle\" x=\"44\" y=\"-411.8\" font-family=\"Times,serif\" font-size=\"14.00\">S</text>\n</g>\n<!-- u_2_0 -->\n<g id=\"node2\" class=\"node\">\n<title>u_2_0</title>\n<text text-anchor=\"middle\" x=\"30\" y=\"-360.8\" font-family=\"Times,serif\" font-size=\"14.00\">a</text>\n</g>\n<!-- u_0_0&#45;&#45;u_2_0 -->\n<g id=\"edge1\" class=\"edge\">\n<title>u_0_0&#45;&#45;u_2_0</title>\n<path fill=\"none\" stroke=\"black\" d=\"M42.05,-407.69C39.38,-398.33 34.6,-381.59 31.93,-372.26\"/>\n</g>\n<!-- u_3_0 -->\n<g id=\"node3\" class=\"node\">\n<title>u_3_0</title>\n<text text-anchor=\"middle\" x=\"57\" y=\"-360.8\" font-family=\"Times,serif\" font-size=\"14.00\">A</text>\n</g>\n<!-- u_0_0&#45;&#45;u_3_0 -->\n<g id=\"edge2\" class=\"edge\">\n<title>u_0_0&#45;&#45;u_3_0</title>\n<path fill=\"none\" stroke=\"black\" d=\"M45.81,-407.69C48.29,-398.33 52.73,-381.59 55.21,-372.26\"/>\n</g>\n<!-- u_5_0 -->\n<g id=\"node4\" class=\"node\">\n<title>u_5_0</title>\n<text text-anchor=\"middle\" x=\"44\" y=\"-309.8\" font-family=\"Times,serif\" font-size=\"14.00\">C</text>\n</g>\n<!-- u_3_0&#45;&#45;u_5_0 -->\n<g id=\"edge3\" class=\"edge\">\n<title>u_3_0&#45;&#45;u_5_0</title>\n<path fill=\"none\" stroke=\"black\" d=\"M55.19,-356.69C52.71,-347.33 48.27,-330.59 45.79,-321.26\"/>\n</g>\n<!-- u_17_0 -->\n<g id=\"node13\" class=\"node\">\n<title>u_17_0</title>\n<text text-anchor=\"middle\" x=\"71\" y=\"-309.8\" font-family=\"Times,serif\" font-size=\"14.00\">b</text>\n</g>\n<!-- u_3_0&#45;&#45;u_17_0 -->\n<g id=\"edge12\" class=\"edge\">\n<title>u_3_0&#45;&#45;u_17_0</title>\n<path fill=\"none\" stroke=\"black\" d=\"M58.95,-356.69C61.62,-347.33 66.4,-330.59 69.07,-321.26\"/>\n</g>\n<!-- u_6_0 -->\n<g id=\"node5\" class=\"node\">\n<title>u_6_0</title>\n<text text-anchor=\"middle\" x=\"44\" y=\"-258.8\" font-family=\"Times,serif\" font-size=\"14.00\">E</text>\n</g>\n<!-- u_5_0&#45;&#45;u_6_0 -->\n<g id=\"edge4\" class=\"edge\">\n<title>u_5_0&#45;&#45;u_6_0</title>\n<path fill=\"none\" stroke=\"black\" d=\"M44,-305.69C44,-296.33 44,-279.59 44,-270.26\"/>\n</g>\n<!-- u_9_0 -->\n<g id=\"node6\" class=\"node\">\n<title>u_9_0</title>\n<text text-anchor=\"middle\" x=\"17\" y=\"-207.8\" font-family=\"Times,serif\" font-size=\"14.00\">C</text>\n</g>\n<!-- u_6_0&#45;&#45;u_9_0 -->\n<g id=\"edge5\" class=\"edge\">\n<title>u_6_0&#45;&#45;u_9_0</title>\n<path fill=\"none\" stroke=\"black\" d=\"M40.25,-254.69C35.09,-245.33 25.86,-228.59 20.72,-219.26\"/>\n</g>\n<!-- u_14_0 -->\n<g id=\"node10\" class=\"node\">\n<title>u_14_0</title>\n<text text-anchor=\"middle\" x=\"44\" y=\"-207.8\" font-family=\"Times,serif\" font-size=\"14.00\">a</text>\n</g>\n<!-- u_6_0&#45;&#45;u_14_0 -->\n<g id=\"edge9\" class=\"edge\">\n<title>u_6_0&#45;&#45;u_14_0</title>\n<path fill=\"none\" stroke=\"black\" d=\"M44,-254.69C44,-245.33 44,-228.59 44,-219.26\"/>\n</g>\n<!-- u_15_0 -->\n<g id=\"node11\" class=\"node\">\n<title>u_15_0</title>\n<text text-anchor=\"middle\" x=\"70\" y=\"-207.8\" font-family=\"Times,serif\" font-size=\"14.00\">S</text>\n</g>\n<!-- u_6_0&#45;&#45;u_15_0 -->\n<g id=\"edge10\" class=\"edge\">\n<title>u_6_0&#45;&#45;u_15_0</title>\n<path fill=\"none\" stroke=\"black\" d=\"M47.62,-254.69C52.58,-245.33 61.46,-228.59 66.42,-219.26\"/>\n</g>\n<!-- u_11_0 -->\n<g id=\"node7\" class=\"node\">\n<title>u_11_0</title>\n<text text-anchor=\"middle\" x=\"4\" y=\"-156.8\" font-family=\"Times,serif\" font-size=\"14.00\">S</text>\n</g>\n<!-- u_9_0&#45;&#45;u_11_0 -->\n<g id=\"edge6\" class=\"edge\">\n<title>u_9_0&#45;&#45;u_11_0</title>\n<path fill=\"none\" stroke=\"black\" d=\"M15.19,-203.69C12.71,-194.33 8.27,-177.59 5.79,-168.26\"/>\n</g>\n<!-- u_13_0 -->\n<g id=\"node9\" class=\"node\">\n<title>u_13_0</title>\n<text text-anchor=\"middle\" x=\"30\" y=\"-156.8\" font-family=\"Times,serif\" font-size=\"14.00\">b</text>\n</g>\n<!-- u_9_0&#45;&#45;u_13_0 -->\n<g id=\"edge8\" class=\"edge\">\n<title>u_9_0&#45;&#45;u_13_0</title>\n<path fill=\"none\" stroke=\"black\" d=\"M18.81,-203.69C21.29,-194.33 25.73,-177.59 28.21,-168.26\"/>\n</g>\n<!-- u_12_0 -->\n<g id=\"node8\" class=\"node\">\n<title>u_12_0</title>\n<text text-anchor=\"middle\" x=\"4\" y=\"-105.8\" font-family=\"Times,serif\" font-size=\"14.00\">a</text>\n</g>\n<!-- u_11_0&#45;&#45;u_12_0 -->\n<g id=\"edge7\" class=\"edge\">\n<title>u_11_0&#45;&#45;u_12_0</title>\n<path fill=\"none\" stroke=\"black\" d=\"M4,-152.69C4,-143.33 4,-126.59 4,-117.26\"/>\n</g>\n<!-- u_16_0 -->\n<g id=\"node12\" class=\"node\">\n<title>u_16_0</title>\n<text text-anchor=\"middle\" x=\"70\" y=\"-156.8\" font-family=\"Times,serif\" font-size=\"14.00\">a</text>\n</g>\n<!-- u_15_0&#45;&#45;u_16_0 -->\n<g id=\"edge11\" class=\"edge\">\n<title>u_15_0&#45;&#45;u_16_0</title>\n<path fill=\"none\" stroke=\"black\" d=\"M70,-203.69C70,-194.33 70,-177.59 70,-168.26\"/>\n</g>\n<!-- u_0_1 -->\n<g id=\"node14\" class=\"node\">\n<title>u_0_1</title>\n<text text-anchor=\"middle\" x=\"123\" y=\"-411.8\" font-family=\"Times,serif\" font-size=\"14.00\">S</text>\n</g>\n<!-- u_2_1 -->\n<g id=\"node15\" class=\"node\">\n<title>u_2_1</title>\n<text text-anchor=\"middle\" x=\"110\" y=\"-360.8\" font-family=\"Times,serif\" font-size=\"14.00\">a</text>\n</g>\n<!-- u_0_1&#45;&#45;u_2_1 -->\n<g id=\"edge13\" class=\"edge\">\n<title>u_0_1&#45;&#45;u_2_1</title>\n<path fill=\"none\" stroke=\"black\" d=\"M121.19,-407.69C118.71,-398.33 114.27,-381.59 111.79,-372.26\"/>\n</g>\n<!-- u_3_1 -->\n<g id=\"node16\" class=\"node\">\n<title>u_3_1</title>\n<text text-anchor=\"middle\" x=\"137\" y=\"-360.8\" font-family=\"Times,serif\" font-size=\"14.00\">A</text>\n</g>\n<!-- u_0_1&#45;&#45;u_3_1 -->\n<g id=\"edge14\" class=\"edge\">\n<title>u_0_1&#45;&#45;u_3_1</title>\n<path fill=\"none\" stroke=\"black\" d=\"M124.95,-407.69C127.62,-398.33 132.4,-381.59 135.07,-372.26\"/>\n</g>\n<!-- u_5_1 -->\n<g id=\"node17\" class=\"node\">\n<title>u_5_1</title>\n<text text-anchor=\"middle\" x=\"124\" y=\"-309.8\" font-family=\"Times,serif\" font-size=\"14.00\">C</text>\n</g>\n<!-- u_3_1&#45;&#45;u_5_1 -->\n<g id=\"edge15\" class=\"edge\">\n<title>u_3_1&#45;&#45;u_5_1</title>\n<path fill=\"none\" stroke=\"black\" d=\"M135.19,-356.69C132.71,-347.33 128.27,-330.59 125.79,-321.26\"/>\n</g>\n<!-- u_24_1 -->\n<g id=\"node31\" class=\"node\">\n<title>u_24_1</title>\n<text text-anchor=\"middle\" x=\"151\" y=\"-309.8\" font-family=\"Times,serif\" font-size=\"14.00\">b</text>\n</g>\n<!-- u_3_1&#45;&#45;u_24_1 -->\n<g id=\"edge29\" class=\"edge\">\n<title>u_3_1&#45;&#45;u_24_1</title>\n<path fill=\"none\" stroke=\"black\" d=\"M138.95,-356.69C141.62,-347.33 146.4,-330.59 149.07,-321.26\"/>\n</g>\n<!-- u_6_1 -->\n<g id=\"node18\" class=\"node\">\n<title>u_6_1</title>\n<text text-anchor=\"middle\" x=\"124\" y=\"-258.8\" font-family=\"Times,serif\" font-size=\"14.00\">E</text>\n</g>\n<!-- u_5_1&#45;&#45;u_6_1 -->\n<g id=\"edge16\" class=\"edge\">\n<title>u_5_1&#45;&#45;u_6_1</title>\n<path fill=\"none\" stroke=\"black\" d=\"M124,-305.69C124,-296.33 124,-279.59 124,-270.26\"/>\n</g>\n<!-- u_9_1 -->\n<g id=\"node19\" class=\"node\">\n<title>u_9_1</title>\n<text text-anchor=\"middle\" x=\"97\" y=\"-207.8\" font-family=\"Times,serif\" font-size=\"14.00\">C</text>\n</g>\n<!-- u_6_1&#45;&#45;u_9_1 -->\n<g id=\"edge17\" class=\"edge\">\n<title>u_6_1&#45;&#45;u_9_1</title>\n<path fill=\"none\" stroke=\"black\" d=\"M120.25,-254.69C115.09,-245.33 105.86,-228.59 100.72,-219.26\"/>\n</g>\n<!-- u_21_1 -->\n<g id=\"node28\" class=\"node\">\n<title>u_21_1</title>\n<text text-anchor=\"middle\" x=\"124\" y=\"-207.8\" font-family=\"Times,serif\" font-size=\"14.00\">a</text>\n</g>\n<!-- u_6_1&#45;&#45;u_21_1 -->\n<g id=\"edge26\" class=\"edge\">\n<title>u_6_1&#45;&#45;u_21_1</title>\n<path fill=\"none\" stroke=\"black\" d=\"M124,-254.69C124,-245.33 124,-228.59 124,-219.26\"/>\n</g>\n<!-- u_22_1 -->\n<g id=\"node29\" class=\"node\">\n<title>u_22_1</title>\n<text text-anchor=\"middle\" x=\"150\" y=\"-207.8\" font-family=\"Times,serif\" font-size=\"14.00\">S</text>\n</g>\n<!-- u_6_1&#45;&#45;u_22_1 -->\n<g id=\"edge27\" class=\"edge\">\n<title>u_6_1&#45;&#45;u_22_1</title>\n<path fill=\"none\" stroke=\"black\" d=\"M127.62,-254.69C132.58,-245.33 141.46,-228.59 146.42,-219.26\"/>\n</g>\n<!-- u_10_1 -->\n<g id=\"node20\" class=\"node\">\n<title>u_10_1</title>\n<text text-anchor=\"middle\" x=\"97\" y=\"-156.8\" font-family=\"Times,serif\" font-size=\"14.00\">E</text>\n</g>\n<!-- u_9_1&#45;&#45;u_10_1 -->\n<g id=\"edge18\" class=\"edge\">\n<title>u_9_1&#45;&#45;u_10_1</title>\n<path fill=\"none\" stroke=\"black\" d=\"M97,-203.69C97,-194.33 97,-177.59 97,-168.26\"/>\n</g>\n<!-- u_13_1 -->\n<g id=\"node21\" class=\"node\">\n<title>u_13_1</title>\n<text text-anchor=\"middle\" x=\"70\" y=\"-105.8\" font-family=\"Times,serif\" font-size=\"14.00\">C</text>\n</g>\n<!-- u_10_1&#45;&#45;u_13_1 -->\n<g id=\"edge19\" class=\"edge\">\n<title>u_10_1&#45;&#45;u_13_1</title>\n<path fill=\"none\" stroke=\"black\" d=\"M93.25,-152.69C88.09,-143.33 78.86,-126.59 73.72,-117.26\"/>\n</g>\n<!-- u_18_1 -->\n<g id=\"node25\" class=\"node\">\n<title>u_18_1</title>\n<text text-anchor=\"middle\" x=\"97\" y=\"-105.8\" font-family=\"Times,serif\" font-size=\"14.00\">a</text>\n</g>\n<!-- u_10_1&#45;&#45;u_18_1 -->\n<g id=\"edge23\" class=\"edge\">\n<title>u_10_1&#45;&#45;u_18_1</title>\n<path fill=\"none\" stroke=\"black\" d=\"M97,-152.69C97,-143.33 97,-126.59 97,-117.26\"/>\n</g>\n<!-- u_19_1 -->\n<g id=\"node26\" class=\"node\">\n<title>u_19_1</title>\n<text text-anchor=\"middle\" x=\"123\" y=\"-105.8\" font-family=\"Times,serif\" font-size=\"14.00\">S</text>\n</g>\n<!-- u_10_1&#45;&#45;u_19_1 -->\n<g id=\"edge24\" class=\"edge\">\n<title>u_10_1&#45;&#45;u_19_1</title>\n<path fill=\"none\" stroke=\"black\" d=\"M100.62,-152.69C105.58,-143.33 114.46,-126.59 119.42,-117.26\"/>\n</g>\n<!-- u_15_1 -->\n<g id=\"node22\" class=\"node\">\n<title>u_15_1</title>\n<text text-anchor=\"middle\" x=\"57\" y=\"-54.8\" font-family=\"Times,serif\" font-size=\"14.00\">S</text>\n</g>\n<!-- u_13_1&#45;&#45;u_15_1 -->\n<g id=\"edge20\" class=\"edge\">\n<title>u_13_1&#45;&#45;u_15_1</title>\n<path fill=\"none\" stroke=\"black\" d=\"M68.19,-101.69C65.71,-92.33 61.27,-75.59 58.79,-66.26\"/>\n</g>\n<!-- u_17_1 -->\n<g id=\"node24\" class=\"node\">\n<title>u_17_1</title>\n<text text-anchor=\"middle\" x=\"83\" y=\"-54.8\" font-family=\"Times,serif\" font-size=\"14.00\">b</text>\n</g>\n<!-- u_13_1&#45;&#45;u_17_1 -->\n<g id=\"edge22\" class=\"edge\">\n<title>u_13_1&#45;&#45;u_17_1</title>\n<path fill=\"none\" stroke=\"black\" d=\"M71.81,-101.69C74.29,-92.33 78.73,-75.59 81.21,-66.26\"/>\n</g>\n<!-- u_16_1 -->\n<g id=\"node23\" class=\"node\">\n<title>u_16_1</title>\n<text text-anchor=\"middle\" x=\"57\" y=\"-3.8\" font-family=\"Times,serif\" font-size=\"14.00\">a</text>\n</g>\n<!-- u_15_1&#45;&#45;u_16_1 -->\n<g id=\"edge21\" class=\"edge\">\n<title>u_15_1&#45;&#45;u_16_1</title>\n<path fill=\"none\" stroke=\"black\" d=\"M57,-50.69C57,-41.33 57,-24.59 57,-15.26\"/>\n</g>\n<!-- u_20_1 -->\n<g id=\"node27\" class=\"node\">\n<title>u_20_1</title>\n<text text-anchor=\"middle\" x=\"123\" y=\"-54.8\" font-family=\"Times,serif\" font-size=\"14.00\">ε</text>\n</g>\n<!-- u_19_1&#45;&#45;u_20_1 -->\n<g id=\"edge25\" class=\"edge\">\n<title>u_19_1&#45;&#45;u_20_1</title>\n<path fill=\"none\" stroke=\"black\" d=\"M123,-101.69C123,-92.33 123,-75.59 123,-66.26\"/>\n</g>\n<!-- u_23_1 -->\n<g id=\"node30\" class=\"node\">\n<title>u_23_1</title>\n<text text-anchor=\"middle\" x=\"150\" y=\"-156.8\" font-family=\"Times,serif\" font-size=\"14.00\">ε</text>\n</g>\n<!-- u_22_1&#45;&#45;u_23_1 -->\n<g id=\"edge28\" class=\"edge\">\n<title>u_22_1&#45;&#45;u_23_1</title>\n<path fill=\"none\" stroke=\"black\" d=\"M150,-203.69C150,-194.33 150,-177.59 150,-168.26\"/>\n</g>\n</g>\n</svg>\n",
            "text/plain": [
              "<graphviz.graphs.Graph at 0x7a72b0269850>"
            ]
          },
          "metadata": {},
          "execution_count": 48
        }
      ],
      "source": [
        "roots,chart,forest=gato.parse('aabaab')\n",
        "gato.graph_trees(gato.extract_trees(forest))"
      ]
    },
    {
      "cell_type": "markdown",
      "metadata": {
        "id": "C74Zk1nksrup"
      },
      "source": [
        "### Gramática no ambigua para ER\n",
        "\n",
        "Algunas gramáticas comienzan como <a href=\"https://ivanvladimir.gitlab.io/lfya_book/docs/04abroparéntesisabroparéntesiscierparéntesis/04ejemplogramática/\">ambiguas</a> ... pueden re-escribirse para que [no lo sean](https://ivanvladimir.gitlab.io/lfya_book/docs/05gram%C3%A1ticaslibresdecontextoensuh%C3%A1bitatyap/03gram%C3%A1ticanoambigua/)"
      ]
    },
    {
      "cell_type": "code",
      "execution_count": 35,
      "metadata": {
        "id": "nKvnS9Htsrup",
        "colab": {
          "base_uri": "https://localhost:8080/"
        },
        "outputId": "ba0304fd-e8f7-4866-bfa5-aa5a571b8ca1"
      },
      "outputs": [
        {
          "output_type": "stream",
          "name": "stdout",
          "text": [
            "No terminal : B, E, A, C, F, S\n",
            "Terminals   : b, a, d\n",
            "Start       : S\n",
            "Productions :\n",
            " S → aA | a | ε\n",
            " E → aA | a\n",
            " A → Cb | Ba\n",
            " B → d | BaF\n",
            " C → Eb | Ba | EbF\n",
            " F → aE | aEF\n"
          ]
        }
      ],
      "source": [
        "re=CFG('S->aA; S->a; S->epsilon; E->aA; E->a; A->Cb; A->Ba; B->d; C->Eb; C->Ba; C->EbF; B->BaF; F->aE; F->aEF')\n",
        "re.print_summary()"
      ]
    },
    {
      "cell_type": "code",
      "execution_count": 49,
      "metadata": {
        "id": "P7fX9nlOsruq",
        "colab": {
          "base_uri": "https://localhost:8080/"
        },
        "outputId": "9b76c797-4fa5-4f9a-ab7a-949c4d5d0892"
      },
      "outputs": [
        {
          "output_type": "stream",
          "name": "stdout",
          "text": [
            "S ⇒  aA\n",
            "  ⇒  aA\n",
            "  ⇒  aCb\n",
            "  ⇒  aEbFb\n",
            "  ⇒  aabFb\n",
            "  ⇒  aabFb\n",
            "  ⇒  aabFb\n",
            "  ⇒  aabaEb\n",
            "  ⇒  aabaEb\n",
            "  ⇒  aabaab\n",
            "  ⇒  aabaab\n",
            "  ⇒  aabaab\n",
            " "
          ]
        }
      ],
      "source": [
        "roots,chart,forest=re.parse('aabaab')\n",
        "trees=list(re.extract_trees(forest))\n",
        "for i,step in enumerate(re.derivation(trees[0])):\n",
        "    if not i:\n",
        "        print(\"\".join(step),end=\"\")\n",
        "    else:\n",
        "        print(\" ⇒ \",\"\".join(step),end=\"\\n \")"
      ]
    },
    {
      "cell_type": "code",
      "execution_count": 50,
      "metadata": {
        "id": "KSi7qBz5sruq",
        "colab": {
          "base_uri": "https://localhost:8080/",
          "height": 392
        },
        "outputId": "8d05400d-992f-47fd-8f34-83dedb18b61e"
      },
      "outputs": [
        {
          "output_type": "execute_result",
          "data": {
            "image/svg+xml": "<?xml version=\"1.0\" encoding=\"UTF-8\" standalone=\"no\"?>\n<!DOCTYPE svg PUBLIC \"-//W3C//DTD SVG 1.1//EN\"\n \"http://www.w3.org/Graphics/SVG/1.1/DTD/svg11.dtd\">\n<!-- Generated by graphviz version 2.43.0 (0)\n -->\n<!-- Title: %3 Pages: 1 -->\n<svg width=\"82pt\" height=\"278pt\"\n viewBox=\"0.00 0.00 82.00 278.00\" xmlns=\"http://www.w3.org/2000/svg\" xmlns:xlink=\"http://www.w3.org/1999/xlink\">\n<g id=\"graph0\" class=\"graph\" transform=\"scale(1 1) rotate(0) translate(4 274)\">\n<title>%3</title>\n<polygon fill=\"white\" stroke=\"transparent\" points=\"-4,4 -4,-274 78,-274 78,4 -4,4\"/>\n<!-- u_0_0 -->\n<g id=\"node1\" class=\"node\">\n<title>u_0_0</title>\n<text text-anchor=\"middle\" x=\"29.5\" y=\"-258.8\" font-family=\"Times,serif\" font-size=\"14.00\">S</text>\n</g>\n<!-- u_2_0 -->\n<g id=\"node2\" class=\"node\">\n<title>u_2_0</title>\n<text text-anchor=\"middle\" x=\"16.5\" y=\"-207.8\" font-family=\"Times,serif\" font-size=\"14.00\">a</text>\n</g>\n<!-- u_0_0&#45;&#45;u_2_0 -->\n<g id=\"edge1\" class=\"edge\">\n<title>u_0_0&#45;&#45;u_2_0</title>\n<path fill=\"none\" stroke=\"black\" d=\"M27.69,-254.69C25.21,-245.33 20.77,-228.59 18.29,-219.26\"/>\n</g>\n<!-- u_3_0 -->\n<g id=\"node3\" class=\"node\">\n<title>u_3_0</title>\n<text text-anchor=\"middle\" x=\"43.5\" y=\"-207.8\" font-family=\"Times,serif\" font-size=\"14.00\">A</text>\n</g>\n<!-- u_0_0&#45;&#45;u_3_0 -->\n<g id=\"edge2\" class=\"edge\">\n<title>u_0_0&#45;&#45;u_3_0</title>\n<path fill=\"none\" stroke=\"black\" d=\"M31.45,-254.69C34.12,-245.33 38.9,-228.59 41.57,-219.26\"/>\n</g>\n<!-- u_5_0 -->\n<g id=\"node4\" class=\"node\">\n<title>u_5_0</title>\n<text text-anchor=\"middle\" x=\"30.5\" y=\"-156.8\" font-family=\"Times,serif\" font-size=\"14.00\">C</text>\n</g>\n<!-- u_3_0&#45;&#45;u_5_0 -->\n<g id=\"edge3\" class=\"edge\">\n<title>u_3_0&#45;&#45;u_5_0</title>\n<path fill=\"none\" stroke=\"black\" d=\"M41.69,-203.69C39.21,-194.33 34.77,-177.59 32.29,-168.26\"/>\n</g>\n<!-- u_16_0 -->\n<g id=\"node12\" class=\"node\">\n<title>u_16_0</title>\n<text text-anchor=\"middle\" x=\"57.5\" y=\"-156.8\" font-family=\"Times,serif\" font-size=\"14.00\">b</text>\n</g>\n<!-- u_3_0&#45;&#45;u_16_0 -->\n<g id=\"edge11\" class=\"edge\">\n<title>u_3_0&#45;&#45;u_16_0</title>\n<path fill=\"none\" stroke=\"black\" d=\"M45.45,-203.69C48.12,-194.33 52.9,-177.59 55.57,-168.26\"/>\n</g>\n<!-- u_8_0 -->\n<g id=\"node5\" class=\"node\">\n<title>u_8_0</title>\n<text text-anchor=\"middle\" x=\"4.5\" y=\"-105.8\" font-family=\"Times,serif\" font-size=\"14.00\">E</text>\n</g>\n<!-- u_5_0&#45;&#45;u_8_0 -->\n<g id=\"edge4\" class=\"edge\">\n<title>u_5_0&#45;&#45;u_8_0</title>\n<path fill=\"none\" stroke=\"black\" d=\"M26.88,-152.69C21.92,-143.33 13.04,-126.59 8.08,-117.26\"/>\n</g>\n<!-- u_10_0 -->\n<g id=\"node7\" class=\"node\">\n<title>u_10_0</title>\n<text text-anchor=\"middle\" x=\"30.5\" y=\"-105.8\" font-family=\"Times,serif\" font-size=\"14.00\">b</text>\n</g>\n<!-- u_5_0&#45;&#45;u_10_0 -->\n<g id=\"edge6\" class=\"edge\">\n<title>u_5_0&#45;&#45;u_10_0</title>\n<path fill=\"none\" stroke=\"black\" d=\"M30.5,-152.69C30.5,-143.33 30.5,-126.59 30.5,-117.26\"/>\n</g>\n<!-- u_11_0 -->\n<g id=\"node8\" class=\"node\">\n<title>u_11_0</title>\n<text text-anchor=\"middle\" x=\"56.5\" y=\"-105.8\" font-family=\"Times,serif\" font-size=\"14.00\">F</text>\n</g>\n<!-- u_5_0&#45;&#45;u_11_0 -->\n<g id=\"edge7\" class=\"edge\">\n<title>u_5_0&#45;&#45;u_11_0</title>\n<path fill=\"none\" stroke=\"black\" d=\"M34.12,-152.69C39.08,-143.33 47.96,-126.59 52.92,-117.26\"/>\n</g>\n<!-- u_9_0 -->\n<g id=\"node6\" class=\"node\">\n<title>u_9_0</title>\n<text text-anchor=\"middle\" x=\"4.5\" y=\"-54.8\" font-family=\"Times,serif\" font-size=\"14.00\">a</text>\n</g>\n<!-- u_8_0&#45;&#45;u_9_0 -->\n<g id=\"edge5\" class=\"edge\">\n<title>u_8_0&#45;&#45;u_9_0</title>\n<path fill=\"none\" stroke=\"black\" d=\"M4.5,-101.69C4.5,-92.33 4.5,-75.59 4.5,-66.26\"/>\n</g>\n<!-- u_13_0 -->\n<g id=\"node9\" class=\"node\">\n<title>u_13_0</title>\n<text text-anchor=\"middle\" x=\"43.5\" y=\"-54.8\" font-family=\"Times,serif\" font-size=\"14.00\">a</text>\n</g>\n<!-- u_11_0&#45;&#45;u_13_0 -->\n<g id=\"edge8\" class=\"edge\">\n<title>u_11_0&#45;&#45;u_13_0</title>\n<path fill=\"none\" stroke=\"black\" d=\"M54.69,-101.69C52.21,-92.33 47.77,-75.59 45.29,-66.26\"/>\n</g>\n<!-- u_14_0 -->\n<g id=\"node10\" class=\"node\">\n<title>u_14_0</title>\n<text text-anchor=\"middle\" x=\"69.5\" y=\"-54.8\" font-family=\"Times,serif\" font-size=\"14.00\">E</text>\n</g>\n<!-- u_11_0&#45;&#45;u_14_0 -->\n<g id=\"edge9\" class=\"edge\">\n<title>u_11_0&#45;&#45;u_14_0</title>\n<path fill=\"none\" stroke=\"black\" d=\"M58.31,-101.69C60.79,-92.33 65.23,-75.59 67.71,-66.26\"/>\n</g>\n<!-- u_15_0 -->\n<g id=\"node11\" class=\"node\">\n<title>u_15_0</title>\n<text text-anchor=\"middle\" x=\"69.5\" y=\"-3.8\" font-family=\"Times,serif\" font-size=\"14.00\">a</text>\n</g>\n<!-- u_14_0&#45;&#45;u_15_0 -->\n<g id=\"edge10\" class=\"edge\">\n<title>u_14_0&#45;&#45;u_15_0</title>\n<path fill=\"none\" stroke=\"black\" d=\"M69.5,-50.69C69.5,-41.33 69.5,-24.59 69.5,-15.26\"/>\n</g>\n</g>\n</svg>\n",
            "text/plain": [
              "<graphviz.graphs.Graph at 0x7a7298552f10>"
            ]
          },
          "metadata": {},
          "execution_count": 50
        }
      ],
      "source": [
        "re.graph_trees(trees)"
      ]
    },
    {
      "cell_type": "markdown",
      "metadata": {
        "id": "isytOorAsrur"
      },
      "source": [
        "### Gramática ambigua\n",
        "\n",
        "Otras gramáticas es imposible reducirlas para que no sean ambiguas"
      ]
    },
    {
      "cell_type": "code",
      "execution_count": null,
      "metadata": {
        "id": "SblRkmwhsrur"
      },
      "outputs": [],
      "source": [
        "ambigua=CFG('S -> X; S -> R; X-> YZ; Y -> aYb; Y-> epsilon;  Z -> cZd; Z -> epsilon; R -> aRd; R -> T; T ->bTc ; T -> epsilon')\n",
        "ambigua.print_summary()"
      ]
    },
    {
      "cell_type": "code",
      "execution_count": null,
      "metadata": {
        "id": "T1_H4oRJsrus"
      },
      "outputs": [],
      "source": [
        "roots,chart,forest=ambigua.parse('aabbcd')\n",
        "trees=list(ambigua.extract_trees(forest))\n",
        "for i,step in enumerate(ambigua.derivation(trees[0])):\n",
        "    if not i:\n",
        "        print(\"\".join(step),end=\"\")\n",
        "    else:\n",
        "        print(\" ⇒ \",\"\".join(step),end=\"\\n \")"
      ]
    },
    {
      "cell_type": "code",
      "execution_count": null,
      "metadata": {
        "id": "VBvXId8qsrus"
      },
      "outputs": [],
      "source": [
        "ambigua.graph_trees(trees)"
      ]
    },
    {
      "cell_type": "code",
      "execution_count": null,
      "metadata": {
        "id": "inLCnDyGsrut"
      },
      "outputs": [],
      "source": [
        "roots,chart,forest=ambigua.parse('aabcdd')\n",
        "trees=list(ambigua.extract_trees(forest))\n",
        "for i,step in enumerate(ambigua.derivation(trees[0])):\n",
        "    if not i:\n",
        "        print(\"\".join(step),end=\"\")\n",
        "    else:\n",
        "        print(\" ⇒ \",\"\".join(step),end=\"\\n \")"
      ]
    },
    {
      "cell_type": "code",
      "execution_count": null,
      "metadata": {
        "id": "BKoayjVSsrut"
      },
      "outputs": [],
      "source": [
        "ambigua.graph_trees(trees)"
      ]
    },
    {
      "cell_type": "code",
      "execution_count": null,
      "metadata": {
        "id": "ymSgSmAVsrut"
      },
      "outputs": [],
      "source": [
        "roots,chart,forest=ambigua.parse('aabbccdd')\n",
        "trees=list(ambigua.extract_trees(forest))\n",
        "for i,step in enumerate(ambigua.derivation(trees[0])):\n",
        "    if not i:\n",
        "        print(\"\".join(step),end=\"\")\n",
        "    else:\n",
        "        print(\" ⇒ \",\"\".join(step),end=\"\\n \")"
      ]
    },
    {
      "cell_type": "code",
      "execution_count": null,
      "metadata": {
        "id": "PtC4SvPZsruu"
      },
      "outputs": [],
      "source": [
        "ambigua.graph_trees(trees)"
      ]
    },
    {
      "cell_type": "markdown",
      "metadata": {
        "id": "IxvXFnTEsruu"
      },
      "source": [
        "### Gramáticas regulares\n",
        "\n",
        "Además de las CFG, existen [Gramáticas Regulares](https://ivanvladimir.gitlab.io/lfya_book/docs/05gram%C3%A1ticaslibresdecontextoensuh%C3%A1bitatyap/07gram%C3%A1ticasregulares/)"
      ]
    },
    {
      "cell_type": "code",
      "execution_count": 34,
      "metadata": {
        "id": "x7KQTyrIsruu",
        "colab": {
          "base_uri": "https://localhost:8080/",
          "height": 280
        },
        "outputId": "93a0b520-8556-45f8-86ca-9eb0e7cce16f"
      },
      "outputs": [
        {
          "output_type": "error",
          "ename": "IndexError",
          "evalue": "list index out of range",
          "traceback": [
            "\u001b[0;31m---------------------------------------------------------------------------\u001b[0m",
            "\u001b[0;31mIndexError\u001b[0m                                Traceback (most recent call last)",
            "\u001b[0;32m<ipython-input-34-76626fba62b1>\u001b[0m in \u001b[0;36m<cell line: 0>\u001b[0;34m()\u001b[0m\n\u001b[0;32m----> 1\u001b[0;31m \u001b[0mregular\u001b[0m\u001b[0;34m=\u001b[0m\u001b[0mRG\u001b[0m\u001b[0;34m(\u001b[0m\u001b[0;34m\"S->aA; S->a; S->epsilon; E->aA; E->a; A->Cb; A->Ba; B->d; C->Eb; C->Ba; C->Eb; B->Ba; F->aE; F->aE\"\u001b[0m\u001b[0;34m)\u001b[0m\u001b[0;34m\u001b[0m\u001b[0;34m\u001b[0m\u001b[0m\n\u001b[0m\u001b[1;32m      2\u001b[0m \u001b[0mprint\u001b[0m\u001b[0;34m(\u001b[0m\u001b[0mregular\u001b[0m\u001b[0;34m.\u001b[0m\u001b[0msummary\u001b[0m\u001b[0;34m(\u001b[0m\u001b[0;34m)\u001b[0m\u001b[0;34m)\u001b[0m\u001b[0;34m\u001b[0m\u001b[0;34m\u001b[0m\u001b[0m\n",
            "\u001b[0;32m/usr/local/lib/python3.11/dist-packages/maquinas/regular/rg.py\u001b[0m in \u001b[0;36m__init__\u001b[0;34m(self, er_string, S, type)\u001b[0m\n\u001b[1;32m     82\u001b[0m                         \u001b[0;32mnot\u001b[0m \u001b[0mlen\u001b[0m\u001b[0;34m(\u001b[0m\u001b[0mbeta\u001b[0m\u001b[0;34m)\u001b[0m \u001b[0;34m==\u001b[0m \u001b[0;36m2\u001b[0m\u001b[0;34m\u001b[0m\u001b[0;34m\u001b[0m\u001b[0m\n\u001b[1;32m     83\u001b[0m                         \u001b[0;32mand\u001b[0m \u001b[0mbeta\u001b[0m\u001b[0;34m[\u001b[0m\u001b[0;36m0\u001b[0m\u001b[0;34m]\u001b[0m \u001b[0;32min\u001b[0m \u001b[0mself\u001b[0m\u001b[0;34m.\u001b[0m\u001b[0msigma\u001b[0m\u001b[0;34m\u001b[0m\u001b[0;34m\u001b[0m\u001b[0m\n\u001b[0;32m---> 84\u001b[0;31m                         \u001b[0;32mand\u001b[0m \u001b[0mbeta\u001b[0m\u001b[0;34m[\u001b[0m\u001b[0;36m1\u001b[0m\u001b[0;34m]\u001b[0m \u001b[0;32min\u001b[0m \u001b[0mself\u001b[0m\u001b[0;34m.\u001b[0m\u001b[0mV\u001b[0m\u001b[0;34m\u001b[0m\u001b[0;34m\u001b[0m\u001b[0m\n\u001b[0m\u001b[1;32m     85\u001b[0m                     ):\n\u001b[1;32m     86\u001b[0m                         \u001b[0;32mreturn\u001b[0m \u001b[0;34m\"Error\"\u001b[0m\u001b[0;34m\u001b[0m\u001b[0;34m\u001b[0m\u001b[0m\n",
            "\u001b[0;31mIndexError\u001b[0m: list index out of range"
          ]
        }
      ],
      "source": [
        "regular=RG(\"S->aA; S->a; S->epsilon; E->aA; E->a; A->Cb; A->Ba; B->d; C->Eb; C->Ba; C->EbF; B->BaF; F->aE; F->aEF\")\n",
        "print(regular.summary())"
      ]
    },
    {
      "cell_type": "code",
      "execution_count": null,
      "metadata": {
        "id": "SxSKE2dZsruu"
      },
      "outputs": [],
      "source": [
        "roots,chart,forest=regular.parse('abc')\n",
        "trees=list(regular.extract_trees(forest))\n",
        "for i,step in enumerate(regular.derivation(trees[0])):\n",
        "    if not i:\n",
        "        print(\"\".join(step),end=\"\")\n",
        "    else:\n",
        "        print(\" ⇒ \",\"\".join(step),end=\"\\n \")"
      ]
    },
    {
      "cell_type": "code",
      "execution_count": null,
      "metadata": {
        "id": "M8qv7t3-sruu"
      },
      "outputs": [],
      "source": [
        "regular.graph_trees(trees)"
      ]
    },
    {
      "cell_type": "markdown",
      "metadata": {
        "id": "EtBvfoOEsruv"
      },
      "source": [
        "## 03 Autómata de Pila\n",
        "\n",
        "Se puede crear un [AP](https://ivanvladimir.gitlab.io/lfya_book/docs/05gram%C3%A1ticaslibresdecontextoensuh%C3%A1bitatyap/08aut%C3%B3matasdepila/) desde código; la función _load_pda_ permite cargar la definición desde una cadena con formato de tabla"
      ]
    },
    {
      "cell_type": "code",
      "execution_count": null,
      "metadata": {
        "id": "Z6FoxBhjsruv"
      },
      "outputs": [],
      "source": [
        "aⁿbⁿ=PDA(Q=['q_0','q_1','q_2'],\n",
        "         sigma=['a','b'],\n",
        "         gamma=['A'],\n",
        "         q_0='q_0',\n",
        "         A=['q_2'],\n",
        "         delta=[\n",
        "            (('q_0','a','Z0'),[('q_0','AZ0')]),\n",
        "            (('q_0','a','A'),[('q_0','AA')]),\n",
        "            (('q_0','b','A'),[('q_1','epsilon')]),\n",
        "            (('q_1','b','A'),[('q_1','epsilon')]),\n",
        "            (('q_1','epsilon','Z0'),[('q_2','Z0')])\n",
        "         ]\n",
        "    )\n",
        "aⁿbⁿ.print_summary()"
      ]
    },
    {
      "cell_type": "code",
      "execution_count": null,
      "metadata": {
        "id": "_6viz5PXsruv"
      },
      "outputs": [],
      "source": [
        "aⁿbⁿ=load_pda(\"\"\"\n",
        "        |     ε     |          a          |    b    |\n",
        " ->q_0  |           | Z₀/AZ₀→q_0,A/AA→q_0 | A/ε→q_1 |\n",
        "   q_1  | Z₀/Z₀→q_2 |                     | A/ε→q_1 |\n",
        "   q_2] |           |                     |         |\n",
        "\"\"\")\n",
        "aⁿbⁿ.print_summary()"
      ]
    },
    {
      "cell_type": "code",
      "execution_count": null,
      "metadata": {
        "id": "mkoCh3CFsruv"
      },
      "outputs": [],
      "source": [
        "for q,a,w_ in aⁿbⁿ.delta_stepwise(\"aaabb\"):\n",
        "    if a:\n",
        "        print(f\"{a} -> {aⁿbⁿ.states2string(q)}\", end=\",\\n \")\n",
        "    else:\n",
        "        print(f\"{aⁿbⁿ.states2string(q)}\",end=\"\\n \")\n",
        "    res=q\n",
        "\n",
        "print(f\"\\nCon {aⁿbⁿ.states2string(res)} Se acepta?\", \"Sí\" if anbn.acceptor(res) else \"No\" )"
      ]
    },
    {
      "cell_type": "code",
      "execution_count": null,
      "metadata": {
        "id": "x9fvgyxosruv"
      },
      "outputs": [],
      "source": [
        "aⁿbⁿ.graph(dpi=\"100\")"
      ]
    },
    {
      "cell_type": "code",
      "execution_count": null,
      "metadata": {
        "id": "ymg1Bmt6sruw"
      },
      "outputs": [],
      "source": [
        "aⁿbⁿ.save_gif(\"aaabbb\",'anbn.gif',show=True)"
      ]
    }
  ],
  "metadata": {
    "kernelspec": {
      "display_name": "Python 3 (ipykernel)",
      "language": "python",
      "name": "python3"
    },
    "language_info": {
      "codemirror_mode": {
        "name": "ipython",
        "version": 3
      },
      "file_extension": ".py",
      "mimetype": "text/x-python",
      "name": "python",
      "nbconvert_exporter": "python",
      "pygments_lexer": "ipython3",
      "version": "3.8.10"
    },
    "colab": {
      "provenance": [],
      "include_colab_link": true
    }
  },
  "nbformat": 4,
  "nbformat_minor": 0
}